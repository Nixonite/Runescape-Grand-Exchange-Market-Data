{
 "cells": [
  {
   "cell_type": "code",
   "execution_count": 9,
   "metadata": {
    "collapsed": false
   },
   "outputs": [
    {
     "data": {
      "text/html": [
       "<div style=\"max-height:1000px;max-width:1500px;overflow:auto;\">\n",
       "<table border=\"1\" class=\"dataframe\">\n",
       "  <thead>\n",
       "    <tr style=\"text-align: right;\">\n",
       "      <th></th>\n",
       "      <th>PriceDate</th>\n",
       "      <th>Category</th>\n",
       "      <th>DateAdded</th>\n",
       "      <th>HighAlch</th>\n",
       "      <th>ItemName</th>\n",
       "      <th>LowAlch</th>\n",
       "      <th>MembersOnly</th>\n",
       "      <th>PriceChange</th>\n",
       "      <th>Price</th>\n",
       "    </tr>\n",
       "  </thead>\n",
       "  <tbody>\n",
       "    <tr>\n",
       "      <th>0</th>\n",
       "      <td> 1435042800</td>\n",
       "      <td> Miscellaneous</td>\n",
       "      <td> 1319439600</td>\n",
       "      <td> 600</td>\n",
       "      <td> Bagged plant 1</td>\n",
       "      <td> 400</td>\n",
       "      <td> Yes</td>\n",
       "      <td>-20</td>\n",
       "      <td> 1523</td>\n",
       "    </tr>\n",
       "    <tr>\n",
       "      <th>1</th>\n",
       "      <td> 1434178800</td>\n",
       "      <td> Miscellaneous</td>\n",
       "      <td> 1319439600</td>\n",
       "      <td> 600</td>\n",
       "      <td> Bagged plant 1</td>\n",
       "      <td> 400</td>\n",
       "      <td> Yes</td>\n",
       "      <td>-30</td>\n",
       "      <td> 1538</td>\n",
       "    </tr>\n",
       "    <tr>\n",
       "      <th>2</th>\n",
       "      <td> 1434956400</td>\n",
       "      <td> Miscellaneous</td>\n",
       "      <td> 1319439600</td>\n",
       "      <td> 600</td>\n",
       "      <td> Bagged plant 1</td>\n",
       "      <td> 400</td>\n",
       "      <td> Yes</td>\n",
       "      <td>  0</td>\n",
       "      <td> 1543</td>\n",
       "    </tr>\n",
       "    <tr>\n",
       "      <th>3</th>\n",
       "      <td> 1434092400</td>\n",
       "      <td> Miscellaneous</td>\n",
       "      <td> 1319439600</td>\n",
       "      <td> 600</td>\n",
       "      <td> Bagged plant 1</td>\n",
       "      <td> 400</td>\n",
       "      <td> Yes</td>\n",
       "      <td>  0</td>\n",
       "      <td> 1568</td>\n",
       "    </tr>\n",
       "    <tr>\n",
       "      <th>4</th>\n",
       "      <td> 1434870000</td>\n",
       "      <td> Miscellaneous</td>\n",
       "      <td> 1319439600</td>\n",
       "      <td> 600</td>\n",
       "      <td> Bagged plant 1</td>\n",
       "      <td> 400</td>\n",
       "      <td> Yes</td>\n",
       "      <td>-24</td>\n",
       "      <td> 1543</td>\n",
       "    </tr>\n",
       "  </tbody>\n",
       "</table>\n",
       "</div>"
      ],
      "text/plain": [
       "    PriceDate       Category   DateAdded  HighAlch        ItemName  LowAlch  \\\n",
       "0  1435042800  Miscellaneous  1319439600       600  Bagged plant 1      400   \n",
       "1  1434178800  Miscellaneous  1319439600       600  Bagged plant 1      400   \n",
       "2  1434956400  Miscellaneous  1319439600       600  Bagged plant 1      400   \n",
       "3  1434092400  Miscellaneous  1319439600       600  Bagged plant 1      400   \n",
       "4  1434870000  Miscellaneous  1319439600       600  Bagged plant 1      400   \n",
       "\n",
       "  MembersOnly  PriceChange  Price  \n",
       "0         Yes          -20   1523  \n",
       "1         Yes          -30   1538  \n",
       "2         Yes            0   1543  \n",
       "3         Yes            0   1568  \n",
       "4         Yes          -24   1543  "
      ]
     },
     "execution_count": 9,
     "metadata": {},
     "output_type": "execute_result"
    }
   ],
   "source": [
    "import pandas as pd\n",
    "\n",
    "data = pd.read_csv(\"Runescape_Market_Data.csv\")\n",
    "data = data[data.columns[1:]]\n",
    "data.head()"
   ]
  },
  {
   "cell_type": "code",
   "execution_count": 10,
   "metadata": {
    "collapsed": false
   },
   "outputs": [
    {
     "data": {
      "text/plain": [
       "3541613"
      ]
     },
     "execution_count": 10,
     "metadata": {},
     "output_type": "execute_result"
    }
   ],
   "source": [
    "len(data)"
   ]
  },
  {
   "cell_type": "code",
   "execution_count": 11,
   "metadata": {
    "collapsed": false
   },
   "outputs": [
    {
     "data": {
      "text/plain": [
       "115948800.0"
      ]
     },
     "execution_count": 11,
     "metadata": {},
     "output_type": "execute_result"
    }
   ],
   "source": [
    "timeDiff = max(data['PriceDate'])-min(data['PriceDate'])\n",
    "timeDiff"
   ]
  },
  {
   "cell_type": "code",
   "execution_count": 20,
   "metadata": {
    "collapsed": false
   },
   "outputs": [
    {
     "name": "stdout",
     "output_type": "stream",
     "text": [
      "Hours: 32208.0\n",
      "Days: 1342.0\n",
      "Weeks: 191.714285714\n",
      "Years: 3.67419575633\n"
     ]
    }
   ],
   "source": [
    "print \"Hours:\",timeDiff/60.0/60#60 seconds in a minute, 60 in a hour\n",
    "print \"Days:\",timeDiff/60.0/60/24\n",
    "print \"Weeks:\",timeDiff/60.0/60/24/7\n",
    "print \"Years:\",timeDiff/60.0/60/24/365.25"
   ]
  },
  {
   "cell_type": "code",
   "execution_count": 21,
   "metadata": {
    "collapsed": false
   },
   "outputs": [
    {
     "data": {
      "text/plain": [
       "89962117"
      ]
     },
     "execution_count": 21,
     "metadata": {},
     "output_type": "execute_result"
    }
   ],
   "source": [
    "max(data['PriceChange'])"
   ]
  },
  {
   "cell_type": "code",
   "execution_count": 23,
   "metadata": {
    "collapsed": false
   },
   "outputs": [
    {
     "data": {
      "text/plain": [
       "2893"
      ]
     },
     "execution_count": 23,
     "metadata": {},
     "output_type": "execute_result"
    }
   ],
   "source": [
    "import numpy as np\n",
    "\n",
    "len(np.unique(data['ItemName']))"
   ]
  },
  {
   "cell_type": "code",
   "execution_count": null,
   "metadata": {
    "collapsed": true
   },
   "outputs": [],
   "source": []
  }
 ],
 "metadata": {},
 "nbformat": 4,
 "nbformat_minor": 0
}
