{
 "cells": [
  {
   "cell_type": "code",
   "execution_count": null,
   "metadata": {
    "collapsed": false
   },
   "outputs": [],
   "source": [
    "from rsitemwrapper import RunescapeAPI\n",
    "from pymongo import MongoClient\n",
    "import time\n",
    "\n",
    "db = MongoClient().rsmarket\n",
    "\n",
    "rs = RunescapeAPI()\n",
    "\n",
    "for num in range(6000):\n",
    "    if num%200==0:\n",
    "        print num\n",
    "    \n",
    "    graphData = rs.getItemGraph(num)\n",
    "    time.sleep(0.1)\n",
    "    infoData = rs.getItemPriceInformation(num)\n",
    "    time.sleep(0.1)\n",
    "\n",
    "    if graphData is not None and infoData is not None:\n",
    "        db.graphs.insert(graphData)\n",
    "        db.item_price_info.insert(infoData)"
   ]
  },
  {
   "cell_type": "code",
   "execution_count": null,
   "metadata": {
    "collapsed": true
   },
   "outputs": [],
   "source": []
  }
 ],
 "metadata": {
  "kernelspec": {
   "display_name": "Python 2",
   "language": "python",
   "name": "python2"
  },
  "language_info": {
   "codemirror_mode": {
    "name": "ipython",
    "version": 2
   },
   "file_extension": ".py",
   "mimetype": "text/x-python",
   "name": "python",
   "nbconvert_exporter": "python",
   "pygments_lexer": "ipython2",
   "version": "2.7.6"
  }
 },
 "nbformat": 4,
 "nbformat_minor": 0
}
