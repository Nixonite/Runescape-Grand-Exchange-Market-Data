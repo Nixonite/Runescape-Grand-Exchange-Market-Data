{
 "cells": [
  {
   "cell_type": "code",
   "execution_count": 6,
   "metadata": {
    "collapsed": true
   },
   "outputs": [],
   "source": [
    "from pymongo import MongoClient\n",
    "from sklearn.ensemble import RandomForestRegressor\n",
    "from sklearn.cross_validation import cross_val_score\n",
    "from sklearn.cross_validation import KFold\n",
    "from sklearn.cross_validation import train_test_split\n",
    "import matplotlib.pyplot as plt\n",
    "%matplotlib inline\n",
    "from sklearn.preprocessing import LabelEncoder\n",
    "from sklearn.decomposition import PCA\n",
    "from sklearn.linear_model import LinearRegression\n",
    "from sklearn.linear_model import Ridge\n",
    "from sklearn.preprocessing import PolynomialFeatures\n",
    "from sklearn.pipeline import make_pipeline\n",
    "import numpy as np\n",
    "import pandas as pd\n",
    "import datetime\n",
    "import time\n",
    "import re\n",
    "import random\n",
    "\n",
    "def monthToInt(month):\n",
    "    monthDict = {\"January\":1, \"February\":2, \"March\":3, \"April\":4, \"May\":5, \"June\":6, \"July\":7, \"August\":8, \"September\":9, \"October\":10, \"November\":11, \"December\": 12 }\n",
    "    return monthDict[month]\n",
    "\n",
    "def dateToUnix(date):\n",
    "    date = date.split(' ')\n",
    "    try:\n",
    "        year = int(date[-1])\n",
    "        day = int(date[1][0:-1])\n",
    "        month = monthToInt(date[0])\n",
    "    except:\n",
    "        year = 2013\n",
    "        day = 11\n",
    "        month = 11\n",
    "    return time.mktime(datetime.datetime(year,month,day).timetuple())\n",
    "\n",
    "def cleanAlch(alchItem):\n",
    "    if ',' in alchItem:\n",
    "        alchItem = ''.join(alchItem.split(','))\n",
    "    if 'gp' in alchItem:\n",
    "        return float(alchItem[0:-2])\n",
    "    else:\n",
    "        return float(alchItem[0:-1])*1000\n",
    "\n",
    "def cleanPriceGP(price):\n",
    "    if price=='':\n",
    "        price=0\n",
    "    else:\n",
    "        price = re.sub('gp','',price)\n",
    "        price = re.sub(',','',price)\n",
    "    try:\n",
    "        return long(price)\n",
    "    except:\n",
    "        return long(0)\n",
    "\n",
    "def getRandomItemDF(dataset):\n",
    "    randomItem = random.choice(np.unique(dataset['ItemName']))\n",
    "    return dataset[dataset['ItemName'] == randomItem]\n",
    "\n",
    "def getItemsInPriceRange(dataset,minVal,maxVal):\n",
    "    theData = dataset[dataset.Price> minVal]#sometimes cuts off parts of item's data\n",
    "    theData = theData[theData.Price< maxVal]\n",
    "    theData = dataset[dataset['ItemName'].isin(np.unique(theData['ItemName']))]\n",
    "    return theData\n",
    "\n",
    "def getRecentSectionOfDataset(dataset,dateFloor):    \n",
    "    recentData = dataset[dataset.PriceDate > dateFloor]\n",
    "    return recentData\n",
    "\n",
    "def cleanChangeInPrice(price):\n",
    "    price = re.sub('\\+','',price)\n",
    "    price = re.sub(',','',price)\n",
    "    price = re.sub('gp','',price)\n",
    "    return price"
   ]
  },
  {
   "cell_type": "code",
   "execution_count": 7,
   "metadata": {
    "collapsed": false
   },
   "outputs": [
    {
     "data": {
      "text/html": [
       "<div style=\"max-height:1000px;max-width:1500px;overflow:auto;\">\n",
       "<table border=\"1\" class=\"dataframe\">\n",
       "  <thead>\n",
       "    <tr style=\"text-align: right;\">\n",
       "      <th></th>\n",
       "      <th>Category</th>\n",
       "      <th>DateAdded</th>\n",
       "      <th>HighAlch</th>\n",
       "      <th>ItemName</th>\n",
       "      <th>LowAlch</th>\n",
       "      <th>MembersOnly</th>\n",
       "      <th>Prices</th>\n",
       "      <th>_id</th>\n",
       "    </tr>\n",
       "  </thead>\n",
       "  <tbody>\n",
       "    <tr>\n",
       "      <th>0</th>\n",
       "      <td>              Miscellaneous</td>\n",
       "      <td> 1319439600</td>\n",
       "      <td>    600</td>\n",
       "      <td>     Bagged plant 1</td>\n",
       "      <td>    400</td>\n",
       "      <td> Yes</td>\n",
       "      <td> [[June 23, 2015, 1,523gp, -20gp], [June 13, 20...</td>\n",
       "      <td> 558a6bcb049914cc5bad9112</td>\n",
       "    </tr>\n",
       "    <tr>\n",
       "      <th>1</th>\n",
       "      <td>                  Jewellery</td>\n",
       "      <td> 1319439600</td>\n",
       "      <td> 121200</td>\n",
       "      <td>     Regen bracelet</td>\n",
       "      <td>  80800</td>\n",
       "      <td> Yes</td>\n",
       "      <td> [[June 23, 2015, 118,187gp, -2,918gp], [June 1...</td>\n",
       "      <td> 558a6c16049914cc5bad9114</td>\n",
       "    </tr>\n",
       "    <tr>\n",
       "      <th>2</th>\n",
       "      <td>                       Ammo</td>\n",
       "      <td> 1319439600</td>\n",
       "      <td>     58</td>\n",
       "      <td>    Mithril javelin</td>\n",
       "      <td>     39</td>\n",
       "      <td> Yes</td>\n",
       "      <td> [[June 23, 2015, 79gp, 0gp], [June 13, 2015, 8...</td>\n",
       "      <td> 558a6c63049914cc5bad9116</td>\n",
       "    </tr>\n",
       "    <tr>\n",
       "      <th>3</th>\n",
       "      <td> Melee weapons - high level</td>\n",
       "      <td> 1319439600</td>\n",
       "      <td> 750000</td>\n",
       "      <td> Saradomin godsword</td>\n",
       "      <td> 500000</td>\n",
       "      <td> Yes</td>\n",
       "      <td> [[June 23, 2015, 11,351,267gp, +39,090gp], [Ju...</td>\n",
       "      <td> 558a6cb6049914cc5bad9118</td>\n",
       "    </tr>\n",
       "    <tr>\n",
       "      <th>4</th>\n",
       "      <td>              Miscellaneous</td>\n",
       "      <td> 1381129200</td>\n",
       "      <td>      0</td>\n",
       "      <td>               Bond</td>\n",
       "      <td>      0</td>\n",
       "      <td>  No</td>\n",
       "      <td> [[June 23, 2015, 9,608,173gp, +79,808gp], [Jun...</td>\n",
       "      <td> 558a6d02049914cc5bad911a</td>\n",
       "    </tr>\n",
       "  </tbody>\n",
       "</table>\n",
       "</div>"
      ],
      "text/plain": [
       "                     Category   DateAdded  HighAlch            ItemName  \\\n",
       "0               Miscellaneous  1319439600       600      Bagged plant 1   \n",
       "1                   Jewellery  1319439600    121200      Regen bracelet   \n",
       "2                        Ammo  1319439600        58     Mithril javelin   \n",
       "3  Melee weapons - high level  1319439600    750000  Saradomin godsword   \n",
       "4               Miscellaneous  1381129200         0                Bond   \n",
       "\n",
       "   LowAlch MembersOnly                                             Prices  \\\n",
       "0      400         Yes  [[June 23, 2015, 1,523gp, -20gp], [June 13, 20...   \n",
       "1    80800         Yes  [[June 23, 2015, 118,187gp, -2,918gp], [June 1...   \n",
       "2       39         Yes  [[June 23, 2015, 79gp, 0gp], [June 13, 2015, 8...   \n",
       "3   500000         Yes  [[June 23, 2015, 11,351,267gp, +39,090gp], [Ju...   \n",
       "4        0          No  [[June 23, 2015, 9,608,173gp, +79,808gp], [Jun...   \n",
       "\n",
       "                        _id  \n",
       "0  558a6bcb049914cc5bad9112  \n",
       "1  558a6c16049914cc5bad9114  \n",
       "2  558a6c63049914cc5bad9116  \n",
       "3  558a6cb6049914cc5bad9118  \n",
       "4  558a6d02049914cc5bad911a  "
      ]
     },
     "execution_count": 7,
     "metadata": {},
     "output_type": "execute_result"
    }
   ],
   "source": [
    "mongodb = MongoClient().rsmarket\n",
    "\n",
    "cursor = mongodb.items.find()\n",
    "\n",
    "data = pd.DataFrame(list(cursor))\n",
    "data['HighAlch'] = data['HighAlch'].map(cleanAlch)\n",
    "data['LowAlch'] = data['LowAlch'].map(cleanAlch)\n",
    "data['DateAdded'] = data['DateAdded'].map(dateToUnix)\n",
    "data.head()"
   ]
  },
  {
   "cell_type": "code",
   "execution_count": 8,
   "metadata": {
    "collapsed": false
   },
   "outputs": [],
   "source": [
    "dataframelist = []\n",
    "for datum in range(len(data)):\n",
    "    tempDF = pd.DataFrame(columns=(list(data.columns)+['PriceDate']+['Price']))\n",
    "    i = len(data.iloc[datum]['Prices'])\n",
    "    tempDF['_id'] = [data.iloc[datum]['_id']]*i\n",
    "    tempDF['ItemName'] = [data.iloc[datum]['ItemName']]*i\n",
    "    tempDF['DateAdded'] = ([data.iloc[datum]['DateAdded']]*i)\n",
    "    tempDF['Category'] = [data.iloc[datum]['Category']]*i\n",
    "    tempDF['MembersOnly'] = [data.iloc[datum]['MembersOnly']]*i\n",
    "    tempDF['HighAlch'] = ([data.iloc[datum]['HighAlch']]*i)\n",
    "    tempDF['LowAlch'] = ([data.iloc[datum]['LowAlch']]*i)\n",
    "    tempDF['PriceDate'] = ([dateToUnix(k[0]) for k in data.iloc[datum]['Prices']])\n",
    "    tempDF['Price'] = ([cleanPriceGP(k[1]) for k in data.iloc[datum]['Prices']])\n",
    "    tempDF['PriceChange'] = ([cleanChangeInPrice(k[2]) for k in data.iloc[datum]['Prices']])\n",
    "    del tempDF['Prices']\n",
    "    dataframelist.append(tempDF)"
   ]
  },
  {
   "cell_type": "code",
   "execution_count": 9,
   "metadata": {
    "collapsed": false
   },
   "outputs": [
    {
     "name": "stdout",
     "output_type": "stream",
     "text": [
      "3695772\n"
     ]
    },
    {
     "data": {
      "text/html": [
       "<div style=\"max-height:1000px;max-width:1500px;overflow:auto;\">\n",
       "<table border=\"1\" class=\"dataframe\">\n",
       "  <thead>\n",
       "    <tr style=\"text-align: right;\">\n",
       "      <th></th>\n",
       "      <th>Category</th>\n",
       "      <th>DateAdded</th>\n",
       "      <th>HighAlch</th>\n",
       "      <th>ItemName</th>\n",
       "      <th>LowAlch</th>\n",
       "      <th>MembersOnly</th>\n",
       "      <th>Price</th>\n",
       "      <th>PriceChange</th>\n",
       "      <th>PriceDate</th>\n",
       "    </tr>\n",
       "  </thead>\n",
       "  <tbody>\n",
       "    <tr>\n",
       "      <th>0</th>\n",
       "      <td> Miscellaneous</td>\n",
       "      <td> 1319439600</td>\n",
       "      <td> 600</td>\n",
       "      <td> Bagged plant 1</td>\n",
       "      <td> 400</td>\n",
       "      <td> Yes</td>\n",
       "      <td> 1523</td>\n",
       "      <td> -20</td>\n",
       "      <td> 1435042800</td>\n",
       "    </tr>\n",
       "    <tr>\n",
       "      <th>1</th>\n",
       "      <td> Miscellaneous</td>\n",
       "      <td> 1319439600</td>\n",
       "      <td> 600</td>\n",
       "      <td> Bagged plant 1</td>\n",
       "      <td> 400</td>\n",
       "      <td> Yes</td>\n",
       "      <td> 1538</td>\n",
       "      <td> -30</td>\n",
       "      <td> 1434178800</td>\n",
       "    </tr>\n",
       "    <tr>\n",
       "      <th>2</th>\n",
       "      <td> Miscellaneous</td>\n",
       "      <td> 1319439600</td>\n",
       "      <td> 600</td>\n",
       "      <td> Bagged plant 1</td>\n",
       "      <td> 400</td>\n",
       "      <td> Yes</td>\n",
       "      <td> 1543</td>\n",
       "      <td>   0</td>\n",
       "      <td> 1434956400</td>\n",
       "    </tr>\n",
       "    <tr>\n",
       "      <th>3</th>\n",
       "      <td> Miscellaneous</td>\n",
       "      <td> 1319439600</td>\n",
       "      <td> 600</td>\n",
       "      <td> Bagged plant 1</td>\n",
       "      <td> 400</td>\n",
       "      <td> Yes</td>\n",
       "      <td> 1568</td>\n",
       "      <td>   0</td>\n",
       "      <td> 1434092400</td>\n",
       "    </tr>\n",
       "    <tr>\n",
       "      <th>4</th>\n",
       "      <td> Miscellaneous</td>\n",
       "      <td> 1319439600</td>\n",
       "      <td> 600</td>\n",
       "      <td> Bagged plant 1</td>\n",
       "      <td> 400</td>\n",
       "      <td> Yes</td>\n",
       "      <td> 1543</td>\n",
       "      <td> -24</td>\n",
       "      <td> 1434870000</td>\n",
       "    </tr>\n",
       "  </tbody>\n",
       "</table>\n",
       "</div>"
      ],
      "text/plain": [
       "        Category   DateAdded  HighAlch        ItemName  LowAlch MembersOnly  \\\n",
       "0  Miscellaneous  1319439600       600  Bagged plant 1      400         Yes   \n",
       "1  Miscellaneous  1319439600       600  Bagged plant 1      400         Yes   \n",
       "2  Miscellaneous  1319439600       600  Bagged plant 1      400         Yes   \n",
       "3  Miscellaneous  1319439600       600  Bagged plant 1      400         Yes   \n",
       "4  Miscellaneous  1319439600       600  Bagged plant 1      400         Yes   \n",
       "\n",
       "   Price PriceChange   PriceDate  \n",
       "0   1523         -20  1435042800  \n",
       "1   1538         -30  1434178800  \n",
       "2   1543           0  1434956400  \n",
       "3   1568           0  1434092400  \n",
       "4   1543         -24  1434870000  "
      ]
     },
     "execution_count": 9,
     "metadata": {},
     "output_type": "execute_result"
    }
   ],
   "source": [
    "fullData = pd.DataFrame(columns=(list(data.columns)+['PriceDate']+['Price']))\n",
    "\n",
    "fullData = pd.concat([fullData]+dataframelist)\n",
    "\n",
    "del fullData['Prices']\n",
    "del fullData['_id']\n",
    "\n",
    "categoryEncoder = LabelEncoder()\n",
    "fullData['Category'] = categoryEncoder.fit_transform(fullData['Category'])\n",
    "itemNameEncoder = LabelEncoder()\n",
    "fullData['ItemName'] = itemNameEncoder.fit_transform(fullData['ItemName'])\n",
    "membersOnlyEncoder = LabelEncoder()\n",
    "fullData['MembersOnly'] = membersOnlyEncoder.fit_transform(fullData['MembersOnly'])\n",
    "\n",
    "fullData = fullData[fullData.Price!=0]\n",
    "\n",
    "print len(fullData)\n",
    "fullData.head()"
   ]
  },
  {
   "cell_type": "code",
   "execution_count": 10,
   "metadata": {
    "collapsed": false
   },
   "outputs": [
    {
     "data": {
      "text/html": [
       "<div style=\"max-height:1000px;max-width:1500px;overflow:auto;\">\n",
       "<table border=\"1\" class=\"dataframe\">\n",
       "  <thead>\n",
       "    <tr style=\"text-align: right;\">\n",
       "      <th></th>\n",
       "      <th>PriceDate</th>\n",
       "      <th>Category</th>\n",
       "      <th>DateAdded</th>\n",
       "      <th>HighAlch</th>\n",
       "      <th>ItemName</th>\n",
       "      <th>LowAlch</th>\n",
       "      <th>MembersOnly</th>\n",
       "      <th>PriceChange</th>\n",
       "      <th>Price</th>\n",
       "    </tr>\n",
       "  </thead>\n",
       "  <tbody>\n",
       "    <tr>\n",
       "      <th>0</th>\n",
       "      <td> 1435042800</td>\n",
       "      <td> Miscellaneous</td>\n",
       "      <td> 1319439600</td>\n",
       "      <td> 600</td>\n",
       "      <td> Bagged plant 1</td>\n",
       "      <td> 400</td>\n",
       "      <td> Yes</td>\n",
       "      <td> -20</td>\n",
       "      <td> 1523</td>\n",
       "    </tr>\n",
       "    <tr>\n",
       "      <th>1</th>\n",
       "      <td> 1434178800</td>\n",
       "      <td> Miscellaneous</td>\n",
       "      <td> 1319439600</td>\n",
       "      <td> 600</td>\n",
       "      <td> Bagged plant 1</td>\n",
       "      <td> 400</td>\n",
       "      <td> Yes</td>\n",
       "      <td> -30</td>\n",
       "      <td> 1538</td>\n",
       "    </tr>\n",
       "    <tr>\n",
       "      <th>2</th>\n",
       "      <td> 1434956400</td>\n",
       "      <td> Miscellaneous</td>\n",
       "      <td> 1319439600</td>\n",
       "      <td> 600</td>\n",
       "      <td> Bagged plant 1</td>\n",
       "      <td> 400</td>\n",
       "      <td> Yes</td>\n",
       "      <td>   0</td>\n",
       "      <td> 1543</td>\n",
       "    </tr>\n",
       "    <tr>\n",
       "      <th>3</th>\n",
       "      <td> 1434092400</td>\n",
       "      <td> Miscellaneous</td>\n",
       "      <td> 1319439600</td>\n",
       "      <td> 600</td>\n",
       "      <td> Bagged plant 1</td>\n",
       "      <td> 400</td>\n",
       "      <td> Yes</td>\n",
       "      <td>   0</td>\n",
       "      <td> 1568</td>\n",
       "    </tr>\n",
       "    <tr>\n",
       "      <th>4</th>\n",
       "      <td> 1434870000</td>\n",
       "      <td> Miscellaneous</td>\n",
       "      <td> 1319439600</td>\n",
       "      <td> 600</td>\n",
       "      <td> Bagged plant 1</td>\n",
       "      <td> 400</td>\n",
       "      <td> Yes</td>\n",
       "      <td> -24</td>\n",
       "      <td> 1543</td>\n",
       "    </tr>\n",
       "  </tbody>\n",
       "</table>\n",
       "</div>"
      ],
      "text/plain": [
       "    PriceDate       Category   DateAdded  HighAlch        ItemName  LowAlch  \\\n",
       "0  1435042800  Miscellaneous  1319439600       600  Bagged plant 1      400   \n",
       "1  1434178800  Miscellaneous  1319439600       600  Bagged plant 1      400   \n",
       "2  1434956400  Miscellaneous  1319439600       600  Bagged plant 1      400   \n",
       "3  1434092400  Miscellaneous  1319439600       600  Bagged plant 1      400   \n",
       "4  1434870000  Miscellaneous  1319439600       600  Bagged plant 1      400   \n",
       "\n",
       "  MembersOnly PriceChange  Price  \n",
       "0         Yes         -20   1523  \n",
       "1         Yes         -30   1538  \n",
       "2         Yes           0   1543  \n",
       "3         Yes           0   1568  \n",
       "4         Yes         -24   1543  "
      ]
     },
     "execution_count": 10,
     "metadata": {},
     "output_type": "execute_result"
    }
   ],
   "source": [
    "cols = fullData.columns.tolist()\n",
    "cols = [cols[-1]]+cols[0:6]+[cols[7]]+[cols[6]]\n",
    "fullData[cols].head()\n",
    "fullData = fullData[cols]\n",
    "fullData.head()"
   ]
  },
  {
   "cell_type": "code",
   "execution_count": 11,
   "metadata": {
    "collapsed": false
   },
   "outputs": [
    {
     "name": "stdout",
     "output_type": "stream",
     "text": [
      "before dropping duplicates:  3695772\n",
      "after:  3541613\n"
     ]
    }
   ],
   "source": [
    "print 'before dropping duplicates: ',len(fullData)\n",
    "fullData = fullData.drop_duplicates()\n",
    "print 'after: ',len(fullData)"
   ]
  },
  {
   "cell_type": "code",
   "execution_count": null,
   "metadata": {
    "collapsed": false
   },
   "outputs": [],
   "source": [
    "from sklearn.preprocessing import OneHotEncoder\n",
    "\n",
    "onehot = OneHotEncoder()\n",
    "\n",
    "onehot.fit_transform(fullData['ItemName'])"
   ]
  },
  {
   "cell_type": "code",
   "execution_count": 77,
   "metadata": {
    "collapsed": false
   },
   "outputs": [],
   "source": [
    "junefirst = 1430438400\n",
    "\n",
    "recentFullData = getRecentSectionOfDataset(fullData,junefirst)\n",
    "\n",
    "lowPricedData = getItemsInPriceRange(fullData,300,1000)\n",
    "recentLowPricedData = getRecentSectionOfDataset(lowPricedData,junefirst)\n",
    "\n",
    "lowMedPricedData = getItemsInPriceRange(fullData,1000,5000)\n",
    "recentLowMedPricedData = getRecentSectionOfDataset(lowMedPricedData,junefirst)\n",
    "\n",
    "mediumPricedData = getItemsInPriceRange(fullData,5000,20000)\n",
    "recentMediumPricedData = getRecentSectionOfDataset(mediumPricedData,junefirst)\n",
    "\n",
    "richPricedData = getItemsInPriceRange(fullData,1000000,5000000)\n",
    "recentRichPricedData = getRecentSectionOfDataset(richPricedData,junefirst)"
   ]
  },
  {
   "cell_type": "code",
   "execution_count": 165,
   "metadata": {
    "collapsed": false
   },
   "outputs": [
    {
     "name": "stdout",
     "output_type": "stream",
     "text": [
      "Accuracy:  0.998035415576  Std:  0.00158676120415\n"
     ]
    }
   ],
   "source": [
    "kfolds = KFold(len(X), n_folds=5, shuffle=True, random_state=np.random.RandomState())\n",
    "\n",
    "scores = cross_val_score(RandomForestRegressor(n_estimators=15),X,y,cv=kfolds,n_jobs=-1)\n",
    "print \"Accuracy: \",scores.mean(),\" Std: \",scores.std()"
   ]
  },
  {
   "cell_type": "code",
   "execution_count": 82,
   "metadata": {
    "collapsed": false
   },
   "outputs": [
    {
     "data": {
      "text/plain": [
       "0.999334572331537"
      ]
     },
     "execution_count": 82,
     "metadata": {},
     "output_type": "execute_result"
    }
   ],
   "source": [
    "#this is for predicting and graphing\n",
    "X = fullData[fullData.columns[0:-2]]\n",
    "y = fullData['Price']\n",
    "\n",
    "X_train,X_test,y_train,y_test = train_test_split(X,y,test_size=0.2)\n",
    "\n",
    "model = RandomForestRegressor(n_estimators=15,n_jobs=-1)\n",
    "model.fit(X_train,y_train)\n",
    "model.score(X_test,y_test)"
   ]
  },
  {
   "cell_type": "code",
   "execution_count": 84,
   "metadata": {
    "collapsed": false
   },
   "outputs": [
    {
     "name": "stdout",
     "output_type": "stream",
     "text": [
      "Recent Price:  1407.0\n"
     ]
    },
    {
     "name": "stderr",
     "output_type": "stream",
     "text": [
      "/Library/Frameworks/Python.framework/Versions/2.7/lib/python2.7/site-packages/IPython/kernel/__main__.py:21: SettingWithCopyWarning: A value is trying to be set on a copy of a slice from a DataFrame.\n",
      "Try using .loc[row_index,col_indexer] = value instead\n"
     ]
    },
    {
     "data": {
      "image/png": "[encoded data removed]",
      "text/plain": [
       "<matplotlib.figure.Figure at 0x233eeaad0>"
      ]
     },
     "metadata": {},
     "output_type": "display_data"
    }
   ],
   "source": [
    "item = getRandomItemDF(recentFullData)\n",
    "\n",
    "X = item[item.columns[0:-1]]\n",
    "y = item['Price']\n",
    "\n",
    "model = make_pipeline(PolynomialFeatures(degree=15),Ridge())\n",
    "model.fit(X,y)\n",
    "\n",
    "plt.figure(figsize=(9,6))\n",
    "plt.scatter(item['PriceDate'],item['Price'],c='b',label='historical')\n",
    "plt.title(itemNameEncoder.classes_[item.iloc[0]['ItemName']])\n",
    "\n",
    "print 'Recent Price: ',item[item['PriceDate']==max(item['PriceDate'])].iloc[0]['Price']\n",
    "\n",
    "dates = sorted(item['PriceDate'])+[1435248710+increment for increment in range(0,500000,100000)]\n",
    "\n",
    "preds = []\n",
    "\n",
    "for i in dates:\n",
    "    nextPred = item.iloc[0]\n",
    "    nextPred['PriceDate']=i\n",
    "    pricePred = int(model.predict(nextPred[0:-1]))\n",
    "    preds.append(pricePred)\n",
    "\n",
    "plt.plot(dates,preds,c='r',label='prediction')\n",
    "plt.legend()\n",
    "plt.show()"
   ]
  },
  {
   "cell_type": "code",
   "execution_count": null,
   "metadata": {
    "collapsed": true
   },
   "outputs": [],
   "source": [
    "\n"
   ]
  }
 ],
 "metadata": {
  "kernelspec": {
   "display_name": "Python 2",
   "language": "python",
   "name": "python2"
  },
  "language_info": {
   "codemirror_mode": {
    "name": "ipython",
    "version": 2
   },
   "file_extension": ".py",
   "mimetype": "text/x-python",
   "name": "python",
   "nbconvert_exporter": "python",
   "pygments_lexer": "ipython2",
   "version": "2.7.6"
  }
 },
 "nbformat": 4,
 "nbformat_minor": 0
}
